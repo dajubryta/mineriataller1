{
 "cells": [
  {
   "cell_type": "code",
   "execution_count": 3,
   "id": "1284b8cd-ed36-432d-8d8d-bad975fcf80a",
   "metadata": {},
   "outputs": [
    {
     "name": "stderr",
     "output_type": "stream",
     "text": [
      "/tmp/ipykernel_29215/2191803649.py:4: DtypeWarning: Columns (0) have mixed types. Specify dtype option on import or set low_memory=False.\n",
      "  data = pd.read_csv('angelsdata.csv')\n"
     ]
    },
    {
     "name": "stdout",
     "output_type": "stream",
     "text": [
      "Index(['DR_NO', 'Date Rptd', 'DATE OCC', 'TIME OCC', 'AREA', 'AREA NAME',\n",
      "       'Rpt Dist No', 'Part 1-2', 'Crm Cd', 'Crm Cd Desc', 'Mocodes',\n",
      "       'Vict Age', 'Vict Sex', 'Vict Descent', 'Premis Cd', 'Premis Desc',\n",
      "       'Weapon Used Cd', 'Weapon Desc', 'Status', 'Status Desc', 'Crm Cd 1',\n",
      "       'Crm Cd 2', 'Crm Cd 3', 'Crm Cd 4', 'LOCATION', 'Cross Street', 'LAT',\n",
      "       'LON'],\n",
      "      dtype='object')\n"
     ]
    }
   ],
   "source": [
    "import pandas as pd\n",
    "\n",
    "# Cargar los datos\n",
    "data = pd.read_csv('angelsdata.csv')\n",
    "\n",
    "# Verificar los nombres de las columnas\n",
    "print(data.columns)\n"
   ]
  },
  {
   "cell_type": "code",
   "execution_count": null,
   "id": "41e28ba5-47e2-48ac-9a00-b63b86eae085",
   "metadata": {},
   "outputs": [
    {
     "name": "stderr",
     "output_type": "stream",
     "text": [
      "/tmp/ipykernel_29215/3870284202.py:8: DtypeWarning: Columns (0) have mixed types. Specify dtype option on import or set low_memory=False.\n",
      "  data = pd.read_csv('angelsdata.csv')\n",
      "/tmp/ipykernel_29215/3870284202.py:11: UserWarning: Could not infer format, so each element will be parsed individually, falling back to `dateutil`. To ensure parsing is consistent and as-expected, please specify a format.\n",
      "  data['DATE OCC'] = pd.to_datetime(data['DATE OCC'])  # Asegúrate de usar la columna correcta\n",
      "/home/user/jupyter_mineria/lib/python3.12/site-packages/keras/src/layers/rnn/rnn.py:204: UserWarning: Do not pass an `input_shape`/`input_dim` argument to a layer. When using Sequential models, prefer using an `Input(shape)` object as the first layer in the model instead.\n",
      "  super().__init__(**kwargs)\n"
     ]
    },
    {
     "name": "stdout",
     "output_type": "stream",
     "text": [
      "Epoch 1/20\n",
      "\u001b[1m16980/16980\u001b[0m \u001b[32m━━━━━━━━━━━━━━━━━━━━\u001b[0m\u001b[37m\u001b[0m \u001b[1m73s\u001b[0m 4ms/step - accuracy: 0.0170 - loss: nan - val_accuracy: 0.0026 - val_loss: nan\n",
      "Epoch 2/20\n",
      "\u001b[1m16980/16980\u001b[0m \u001b[32m━━━━━━━━━━━━━━━━━━━━\u001b[0m\u001b[37m\u001b[0m \u001b[1m76s\u001b[0m 4ms/step - accuracy: 0.0030 - loss: nan - val_accuracy: 0.0026 - val_loss: nan\n",
      "Epoch 3/20\n",
      "\u001b[1m16980/16980\u001b[0m \u001b[32m━━━━━━━━━━━━━━━━━━━━\u001b[0m\u001b[37m\u001b[0m \u001b[1m94s\u001b[0m 5ms/step - accuracy: 0.0027 - loss: nan - val_accuracy: 0.0026 - val_loss: nan\n",
      "Epoch 4/20\n",
      "\u001b[1m16980/16980\u001b[0m \u001b[32m━━━━━━━━━━━━━━━━━━━━\u001b[0m\u001b[37m\u001b[0m \u001b[1m88s\u001b[0m 5ms/step - accuracy: 0.0028 - loss: nan - val_accuracy: 0.0026 - val_loss: nan\n",
      "Epoch 5/20\n",
      "\u001b[1m16980/16980\u001b[0m \u001b[32m━━━━━━━━━━━━━━━━━━━━\u001b[0m\u001b[37m\u001b[0m \u001b[1m89s\u001b[0m 5ms/step - accuracy: 0.0028 - loss: nan - val_accuracy: 0.0026 - val_loss: nan\n",
      "Epoch 6/20\n",
      "\u001b[1m16980/16980\u001b[0m \u001b[32m━━━━━━━━━━━━━━━━━━━━\u001b[0m\u001b[37m\u001b[0m \u001b[1m103s\u001b[0m 6ms/step - accuracy: 0.0029 - loss: nan - val_accuracy: 0.0026 - val_loss: nan\n",
      "Epoch 7/20\n",
      "\u001b[1m16980/16980\u001b[0m \u001b[32m━━━━━━━━━━━━━━━━━━━━\u001b[0m\u001b[37m\u001b[0m \u001b[1m87s\u001b[0m 5ms/step - accuracy: 0.0028 - loss: nan - val_accuracy: 0.0026 - val_loss: nan\n",
      "Epoch 8/20\n",
      "\u001b[1m16980/16980\u001b[0m \u001b[32m━━━━━━━━━━━━━━━━━━━━\u001b[0m\u001b[37m\u001b[0m \u001b[1m160s\u001b[0m 6ms/step - accuracy: 0.0029 - loss: nan - val_accuracy: 0.0026 - val_loss: nan\n",
      "Epoch 9/20\n",
      "\u001b[1m16980/16980\u001b[0m \u001b[32m━━━━━━━━━━━━━━━━━━━━\u001b[0m\u001b[37m\u001b[0m \u001b[1m143s\u001b[0m 8ms/step - accuracy: 0.0030 - loss: nan - val_accuracy: 0.0026 - val_loss: nan\n",
      "Epoch 10/20\n",
      "\u001b[1m16980/16980\u001b[0m \u001b[32m━━━━━━━━━━━━━━━━━━━━\u001b[0m\u001b[37m\u001b[0m \u001b[1m132s\u001b[0m 8ms/step - accuracy: 0.0028 - loss: nan - val_accuracy: 0.0026 - val_loss: nan\n",
      "Epoch 11/20\n",
      "\u001b[1m16980/16980\u001b[0m \u001b[32m━━━━━━━━━━━━━━━━━━━━\u001b[0m\u001b[37m\u001b[0m \u001b[1m155s\u001b[0m 9ms/step - accuracy: 0.0029 - loss: nan - val_accuracy: 0.0026 - val_loss: nan\n",
      "Epoch 12/20\n",
      "\u001b[1m16980/16980\u001b[0m \u001b[32m━━━━━━━━━━━━━━━━━━━━\u001b[0m\u001b[37m\u001b[0m \u001b[1m144s\u001b[0m 8ms/step - accuracy: 0.0028 - loss: nan - val_accuracy: 0.0026 - val_loss: nan\n",
      "Epoch 13/20\n",
      "\u001b[1m 9020/16980\u001b[0m \u001b[32m━━━━━━━━━━\u001b[0m\u001b[37m━━━━━━━━━━\u001b[0m \u001b[1m1:39\u001b[0m 13ms/step - accuracy: 0.0029 - loss: nan"
     ]
    }
   ],
   "source": [
    "import pandas as pd\n",
    "from sklearn.model_selection import train_test_split\n",
    "from tensorflow.keras.models import Sequential\n",
    "from tensorflow.keras.layers import LSTM, Dense\n",
    "from sklearn.preprocessing import LabelEncoder, StandardScaler\n",
    "\n",
    "# Cargar los datos\n",
    "data = pd.read_csv('angelsdata.csv')\n",
    "\n",
    "# Preprocesamiento de datos\n",
    "data['DATE OCC'] = pd.to_datetime(data['DATE OCC'])  # Asegúrate de usar la columna correcta\n",
    "data['HOUR'] = data['DATE OCC'].dt.hour\n",
    "data['DAY_OF_WEEK'] = data['DATE OCC'].dt.dayofweek\n",
    "data['MONTH'] = data['DATE OCC'].dt.month\n",
    "\n",
    "# Seleccionar características y etiquetas, usando 'Crm Cd Desc' en lugar de 'PRIMARY DESCRIPTION'\n",
    "X = data[['HOUR', 'DAY_OF_WEEK', 'MONTH']].values\n",
    "y = data['Crm Cd Desc']\n",
    "\n",
    "# Codificar las etiquetas\n",
    "label_encoder = LabelEncoder()\n",
    "y = label_encoder.fit_transform(y)\n",
    "\n",
    "# Dividir los datos en conjuntos de entrenamiento y prueba\n",
    "X_train, X_test, y_train, y_test = train_test_split(X, y, test_size=0.2, random_state=42)\n",
    "\n",
    "# Escalar características\n",
    "scaler = StandardScaler()\n",
    "X_train = scaler.fit_transform(X_train)\n",
    "X_test = scaler.transform(X_test)\n",
    "\n",
    "# Ajustar las dimensiones para LSTM\n",
    "X_train = X_train.reshape((X_train.shape[0], X_train.shape[1], 1))\n",
    "X_test = X_test.reshape((X_test.shape[0], X_test.shape[1], 1))\n",
    "\n",
    "# Construir la red neuronal recurrente \n",
    "model = Sequential([\n",
    "    LSTM(64, input_shape=(X_train.shape[1], 1), activation='relu', return_sequences=True),\n",
    "    LSTM(32, activation='relu'),\n",
    "    Dense(len(label_encoder.classes_), activation='softmax')\n",
    "])\n",
    "\n",
    "# Compilar el modelo\n",
    "model.compile(optimizer='adam', loss='sparse_categorical_crossentropy', metrics=['accuracy'])\n",
    "\n",
    "# Ajustar el modelo\n",
    "model.fit(X_train, y_train, epochs=20, batch_size=32, validation_data=(X_test, y_test))\n"
   ]
  },
  {
   "cell_type": "code",
   "execution_count": null,
   "id": "14a02882-66dc-4767-b06c-b2d1d8a01eac",
   "metadata": {
    "scrolled": true
   },
   "outputs": [],
   "source": [
    "import pandas as pd\n",
    "from sklearn.model_selection import train_test_split\n",
    "from tensorflow.keras.models import Sequential\n",
    "from tensorflow.keras.layers import Conv1D, MaxPooling1D, Flatten, Dense\n",
    "from sklearn.preprocessing import StandardScaler\n",
    "\n",
    "# Cargar los datos\n",
    "data = pd.read_csv('angelsdata.csv')\n",
    "\n",
    "# Preprocesamiento de datos\n",
    "data['DATE OCC'] = pd.to_datetime(data['DATE OCC'])\n",
    "data = data.sort_values(by='DATE OCC')  # Ordenar cronológicamente\n",
    "\n",
    "# Seleccionar características y etiquetas usando 'Crm Cd Desc' en lugar de 'PRIMARY DESCRIPTION'\n",
    "X = data[['DATE OCC']].values\n",
    "y = data['Crm Cd Desc']  # Usar la descripción del crimen como la variable objetivo\n",
    "\n",
    "# Codificar las etiquetas\n",
    "from sklearn.preprocessing import LabelEncoder\n",
    "label_encoder = LabelEncoder()\n",
    "y = label_encoder.fit_transform(y)\n",
    "\n",
    "# Dividir los datos en conjuntos de entrenamiento y prueba\n",
    "X_train, X_test, y_train, y_test = train_test_split(X, y, test_size=0.2, shuffle=False)\n",
    "\n",
    "# Escalar características\n",
    "scaler = StandardScaler()\n",
    "X_train = scaler.fit_transform(X_train)\n",
    "X_test = scaler.transform(X_test)\n",
    "\n",
    "# Ajustar las dimensiones para la entrada de CNN (reshape)\n",
    "X_train = X_train.reshape((X_train.shape[0], X_train.shape[1], 1))\n",
    "X_test = X_test.reshape((X_test.shape[0], X_test.shape[1], 1))\n",
    "\n",
    "# Construir la red neuronal convolucional (CNN)\n",
    "model = Sequential([\n",
    "    Conv1D(filters=64, kernel_size=3, activation='relu', input_shape=(X_train.shape[1], 1)),\n",
    "    MaxPooling1D(pool_size=2),\n",
    "    Flatten(),\n",
    "    Dense(50, activation='relu'),\n",
    "    Dense(len(label_encoder.classes_), activation='softmax')\n",
    "])\n",
    "\n",
    "# Compilar el modelo\n",
    "model.compile(optimizer='adam', loss='sparse_categorical_crossentropy', metrics=['accuracy'])\n",
    "\n",
    "# Ajustar el modelo\n",
    "model.fit(X_train, y_train, epochs=20, batch_size=32, validation_data=(X_test, y_test))\n"
   ]
  },
  {
   "cell_type": "code",
   "execution_count": null,
   "id": "ed105ae0-b652-4ca3-a8d7-62de9cf3a726",
   "metadata": {},
   "outputs": [],
   "source": []
  }
 ],
 "metadata": {
  "kernelspec": {
   "display_name": "Python 3 (ipykernel)",
   "language": "python",
   "name": "python3"
  },
  "language_info": {
   "codemirror_mode": {
    "name": "ipython",
    "version": 3
   },
   "file_extension": ".py",
   "mimetype": "text/x-python",
   "name": "python",
   "nbconvert_exporter": "python",
   "pygments_lexer": "ipython3",
   "version": "3.12.3"
  }
 },
 "nbformat": 4,
 "nbformat_minor": 5
}
